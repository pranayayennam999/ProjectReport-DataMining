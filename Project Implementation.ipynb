{
 "cells": [
  {
   "cell_type": "markdown",
   "id": "dfbfc250-97f5-43ca-8540-3c0c1b424845",
   "metadata": {},
   "source": [
    "### Importing all required libraries"
   ]
  },
  {
   "cell_type": "code",
   "execution_count": 1,
   "id": "0f68025e",
   "metadata": {
    "tags": []
   },
   "outputs": [],
   "source": [
    "import pandas as pd \n",
    "import numpy as np \n",
    "import matplotlib.pyplot as plt \n",
    "import nltk\n",
    "import re\n",
    "import string\n",
    "import sklearn \n",
    "import seaborn as sns\n",
    "import collections\n",
    "from collections import Counter\n",
    "from sklearn import preprocessing\n",
    "from sklearn.preprocessing import LabelEncoder\n",
    "from sklearn.preprocessing import StandardScaler\n",
    "from sklearn.feature_extraction.text import TfidfVectorizer\n",
    "from imblearn.over_sampling import SMOTE\n",
    "from textblob import TextBlob\n",
    "from sklearn.model_selection import train_test_split\n"
   ]
  },
  {
   "cell_type": "markdown",
   "id": "8b9dcf33-f9c2-4ef4-835e-4873b6910832",
   "metadata": {},
   "source": [
    "### Data Loading"
   ]
  },
  {
   "cell_type": "code",
   "execution_count": 2,
   "id": "569bff6d-a189-4c90-ab10-446f94501e59",
   "metadata": {
    "tags": []
   },
   "outputs": [],
   "source": [
    "df=pd.read_csv('../Project/Musical_Instruments_Reviews.csv')\n",
    "df.head()\n",
    "df.isnull().sum() # checking for null values\n",
    "df['reviewText']=df['reviewText'].fillna('Missing')"
   ]
  },
  {
   "cell_type": "code",
   "execution_count": 3,
   "id": "b18d5bd8-72dd-420e-8697-a4417a82e975",
   "metadata": {
    "tags": []
   },
   "outputs": [
    {
     "data": {
      "text/plain": [
       "10261"
      ]
     },
     "execution_count": 3,
     "metadata": {},
     "output_type": "execute_result"
    }
   ],
   "source": [
    "len(df)"
   ]
  },
  {
   "cell_type": "markdown",
   "id": "88ed2cf6-d629-4e6d-996c-dde6e5881643",
   "metadata": {},
   "source": [
    "The length of the data is 10261"
   ]
  },
  {
   "cell_type": "markdown",
   "id": "2051b60f-fd5e-41b7-b3c6-43f2623f1fd3",
   "metadata": {},
   "source": [
    "### Defined a function 'f' to classify into 3 classes i.e., Positive, Neutral and Negative by checking the conditions below"
   ]
  },
  {
   "cell_type": "code",
   "execution_count": 4,
   "id": "6c31bffe-1a53-4c26-999b-227aa1eaf02c",
   "metadata": {
    "tags": []
   },
   "outputs": [
    {
     "data": {
      "text/html": [
       "<div>\n",
       "<style scoped>\n",
       "    .dataframe tbody tr th:only-of-type {\n",
       "        vertical-align: middle;\n",
       "    }\n",
       "\n",
       "    .dataframe tbody tr th {\n",
       "        vertical-align: top;\n",
       "    }\n",
       "\n",
       "    .dataframe thead th {\n",
       "        text-align: right;\n",
       "    }\n",
       "</style>\n",
       "<table border=\"1\" class=\"dataframe\">\n",
       "  <thead>\n",
       "    <tr style=\"text-align: right;\">\n",
       "      <th></th>\n",
       "      <th>reviewerID</th>\n",
       "      <th>asin</th>\n",
       "      <th>reviewerName</th>\n",
       "      <th>helpful</th>\n",
       "      <th>reviewText</th>\n",
       "      <th>overall</th>\n",
       "      <th>summary</th>\n",
       "      <th>unixReviewTime</th>\n",
       "      <th>reviewTime</th>\n",
       "      <th>sentiment</th>\n",
       "    </tr>\n",
       "  </thead>\n",
       "  <tbody>\n",
       "    <tr>\n",
       "      <th>0</th>\n",
       "      <td>A2IBPI20UZIR0U</td>\n",
       "      <td>1384719342</td>\n",
       "      <td>cassandra tu \"Yeah, well, that's just like, u...</td>\n",
       "      <td>[0, 0]</td>\n",
       "      <td>Not much to write about here, but it does exac...</td>\n",
       "      <td>5.0</td>\n",
       "      <td>good</td>\n",
       "      <td>1393545600</td>\n",
       "      <td>02 28, 2014</td>\n",
       "      <td>Positive</td>\n",
       "    </tr>\n",
       "    <tr>\n",
       "      <th>1</th>\n",
       "      <td>A14VAT5EAX3D9S</td>\n",
       "      <td>1384719342</td>\n",
       "      <td>Jake</td>\n",
       "      <td>[13, 14]</td>\n",
       "      <td>The product does exactly as it should and is q...</td>\n",
       "      <td>5.0</td>\n",
       "      <td>Jake</td>\n",
       "      <td>1363392000</td>\n",
       "      <td>03 16, 2013</td>\n",
       "      <td>Positive</td>\n",
       "    </tr>\n",
       "    <tr>\n",
       "      <th>2</th>\n",
       "      <td>A195EZSQDW3E21</td>\n",
       "      <td>1384719342</td>\n",
       "      <td>Rick Bennette \"Rick Bennette\"</td>\n",
       "      <td>[1, 1]</td>\n",
       "      <td>The primary job of this device is to block the...</td>\n",
       "      <td>5.0</td>\n",
       "      <td>It Does The Job Well</td>\n",
       "      <td>1377648000</td>\n",
       "      <td>08 28, 2013</td>\n",
       "      <td>Positive</td>\n",
       "    </tr>\n",
       "    <tr>\n",
       "      <th>3</th>\n",
       "      <td>A2C00NNG1ZQQG2</td>\n",
       "      <td>1384719342</td>\n",
       "      <td>RustyBill \"Sunday Rocker\"</td>\n",
       "      <td>[0, 0]</td>\n",
       "      <td>Nice windscreen protects my MXL mic and preven...</td>\n",
       "      <td>5.0</td>\n",
       "      <td>GOOD WINDSCREEN FOR THE MONEY</td>\n",
       "      <td>1392336000</td>\n",
       "      <td>02 14, 2014</td>\n",
       "      <td>Positive</td>\n",
       "    </tr>\n",
       "    <tr>\n",
       "      <th>4</th>\n",
       "      <td>A94QU4C90B1AX</td>\n",
       "      <td>1384719342</td>\n",
       "      <td>SEAN MASLANKA</td>\n",
       "      <td>[0, 0]</td>\n",
       "      <td>This pop filter is great. It looks and perform...</td>\n",
       "      <td>5.0</td>\n",
       "      <td>No more pops when I record my vocals.</td>\n",
       "      <td>1392940800</td>\n",
       "      <td>02 21, 2014</td>\n",
       "      <td>Positive</td>\n",
       "    </tr>\n",
       "  </tbody>\n",
       "</table>\n",
       "</div>"
      ],
      "text/plain": [
       "       reviewerID        asin  \\\n",
       "0  A2IBPI20UZIR0U  1384719342   \n",
       "1  A14VAT5EAX3D9S  1384719342   \n",
       "2  A195EZSQDW3E21  1384719342   \n",
       "3  A2C00NNG1ZQQG2  1384719342   \n",
       "4   A94QU4C90B1AX  1384719342   \n",
       "\n",
       "                                       reviewerName   helpful  \\\n",
       "0  cassandra tu \"Yeah, well, that's just like, u...    [0, 0]   \n",
       "1                                              Jake  [13, 14]   \n",
       "2                     Rick Bennette \"Rick Bennette\"    [1, 1]   \n",
       "3                         RustyBill \"Sunday Rocker\"    [0, 0]   \n",
       "4                                     SEAN MASLANKA    [0, 0]   \n",
       "\n",
       "                                          reviewText  overall  \\\n",
       "0  Not much to write about here, but it does exac...      5.0   \n",
       "1  The product does exactly as it should and is q...      5.0   \n",
       "2  The primary job of this device is to block the...      5.0   \n",
       "3  Nice windscreen protects my MXL mic and preven...      5.0   \n",
       "4  This pop filter is great. It looks and perform...      5.0   \n",
       "\n",
       "                                 summary  unixReviewTime   reviewTime  \\\n",
       "0                                   good      1393545600  02 28, 2014   \n",
       "1                                   Jake      1363392000  03 16, 2013   \n",
       "2                   It Does The Job Well      1377648000  08 28, 2013   \n",
       "3          GOOD WINDSCREEN FOR THE MONEY      1392336000  02 14, 2014   \n",
       "4  No more pops when I record my vocals.      1392940800  02 21, 2014   \n",
       "\n",
       "  sentiment  \n",
       "0  Positive  \n",
       "1  Positive  \n",
       "2  Positive  \n",
       "3  Positive  \n",
       "4  Positive  "
      ]
     },
     "execution_count": 4,
     "metadata": {},
     "output_type": "execute_result"
    }
   ],
   "source": [
    "def f(row):\n",
    "    if row['overall'] == 3.0:\n",
    "        val = 'Neutral'\n",
    "    elif row['overall'] == 1.0 or row['overall'] == 2.0:\n",
    "        val = 'Negative'\n",
    "    elif row['overall'] == 4.0 or row['overall'] == 5.0:\n",
    "        val = 'Positive'\n",
    "    else:\n",
    "        val = -1\n",
    "    return val\n",
    "df['sentiment'] = df.apply(f, axis=1) # create a new column sentiment to store the values of returned values from function f\n",
    "df.head()\n"
   ]
  },
  {
   "cell_type": "markdown",
   "id": "9b30527f-dd82-4855-a080-6d50c6acd2a0",
   "metadata": {},
   "source": [
    "### Pre-processed the data  \n",
    "+ Checking for Duplicates\n",
    "+ Checking for Null Values\n",
    "+ Making text lowercase\n",
    "+ Removing hyperlinks\n",
    "+ Removing punctuation marks\n",
    "+ Eliminating Stop Words\n",
    "+ Data Resampling\n"
   ]
  },
  {
   "cell_type": "markdown",
   "id": "4908c1e9-821b-4654-99f5-ee37287e05da",
   "metadata": {},
   "source": [
    "### Defined a function review_cleaning"
   ]
  },
  {
   "cell_type": "code",
   "execution_count": 5,
   "id": "c4908748-e9c7-46ff-9ef4-4a002fbe1400",
   "metadata": {
    "tags": []
   },
   "outputs": [],
   "source": [
    "def review_cleaning(text):\n",
    "    text = str(text).lower()\n",
    "    text = re.sub('https?://\\S+|www\\.\\S+', '', text)\n",
    "    text = re.sub('[%s]' % re.escape(string.punctuation), '', text)\n",
    "    text = re.sub('\\n', '', text)\n",
    "    return text\n"
   ]
  },
  {
   "cell_type": "markdown",
   "id": "785d6c86-37ae-4a9b-bd34-f2d51880bf22",
   "metadata": {},
   "source": [
    "### Created new column reviews to store processed reviewText"
   ]
  },
  {
   "cell_type": "code",
   "execution_count": 6,
   "id": "37bba0ad-d8a6-4aaa-827c-19452ecdedcc",
   "metadata": {
    "tags": []
   },
   "outputs": [
    {
     "data": {
      "text/html": [
       "<div>\n",
       "<style scoped>\n",
       "    .dataframe tbody tr th:only-of-type {\n",
       "        vertical-align: middle;\n",
       "    }\n",
       "\n",
       "    .dataframe tbody tr th {\n",
       "        vertical-align: top;\n",
       "    }\n",
       "\n",
       "    .dataframe thead th {\n",
       "        text-align: right;\n",
       "    }\n",
       "</style>\n",
       "<table border=\"1\" class=\"dataframe\">\n",
       "  <thead>\n",
       "    <tr style=\"text-align: right;\">\n",
       "      <th></th>\n",
       "      <th>reviewerID</th>\n",
       "      <th>asin</th>\n",
       "      <th>reviewerName</th>\n",
       "      <th>helpful</th>\n",
       "      <th>reviewText</th>\n",
       "      <th>overall</th>\n",
       "      <th>summary</th>\n",
       "      <th>unixReviewTime</th>\n",
       "      <th>reviewTime</th>\n",
       "      <th>sentiment</th>\n",
       "      <th>reviews</th>\n",
       "    </tr>\n",
       "  </thead>\n",
       "  <tbody>\n",
       "    <tr>\n",
       "      <th>0</th>\n",
       "      <td>A2IBPI20UZIR0U</td>\n",
       "      <td>1384719342</td>\n",
       "      <td>cassandra tu \"Yeah, well, that's just like, u...</td>\n",
       "      <td>[0, 0]</td>\n",
       "      <td>Not much to write about here, but it does exac...</td>\n",
       "      <td>5.0</td>\n",
       "      <td>good</td>\n",
       "      <td>1393545600</td>\n",
       "      <td>02 28, 2014</td>\n",
       "      <td>Positive</td>\n",
       "      <td>not much to write about here but it does exact...</td>\n",
       "    </tr>\n",
       "    <tr>\n",
       "      <th>1</th>\n",
       "      <td>A14VAT5EAX3D9S</td>\n",
       "      <td>1384719342</td>\n",
       "      <td>Jake</td>\n",
       "      <td>[13, 14]</td>\n",
       "      <td>The product does exactly as it should and is q...</td>\n",
       "      <td>5.0</td>\n",
       "      <td>Jake</td>\n",
       "      <td>1363392000</td>\n",
       "      <td>03 16, 2013</td>\n",
       "      <td>Positive</td>\n",
       "      <td>the product does exactly as it should and is q...</td>\n",
       "    </tr>\n",
       "    <tr>\n",
       "      <th>2</th>\n",
       "      <td>A195EZSQDW3E21</td>\n",
       "      <td>1384719342</td>\n",
       "      <td>Rick Bennette \"Rick Bennette\"</td>\n",
       "      <td>[1, 1]</td>\n",
       "      <td>The primary job of this device is to block the...</td>\n",
       "      <td>5.0</td>\n",
       "      <td>It Does The Job Well</td>\n",
       "      <td>1377648000</td>\n",
       "      <td>08 28, 2013</td>\n",
       "      <td>Positive</td>\n",
       "      <td>the primary job of this device is to block the...</td>\n",
       "    </tr>\n",
       "    <tr>\n",
       "      <th>3</th>\n",
       "      <td>A2C00NNG1ZQQG2</td>\n",
       "      <td>1384719342</td>\n",
       "      <td>RustyBill \"Sunday Rocker\"</td>\n",
       "      <td>[0, 0]</td>\n",
       "      <td>Nice windscreen protects my MXL mic and preven...</td>\n",
       "      <td>5.0</td>\n",
       "      <td>GOOD WINDSCREEN FOR THE MONEY</td>\n",
       "      <td>1392336000</td>\n",
       "      <td>02 14, 2014</td>\n",
       "      <td>Positive</td>\n",
       "      <td>nice windscreen protects my mxl mic and preven...</td>\n",
       "    </tr>\n",
       "    <tr>\n",
       "      <th>4</th>\n",
       "      <td>A94QU4C90B1AX</td>\n",
       "      <td>1384719342</td>\n",
       "      <td>SEAN MASLANKA</td>\n",
       "      <td>[0, 0]</td>\n",
       "      <td>This pop filter is great. It looks and perform...</td>\n",
       "      <td>5.0</td>\n",
       "      <td>No more pops when I record my vocals.</td>\n",
       "      <td>1392940800</td>\n",
       "      <td>02 21, 2014</td>\n",
       "      <td>Positive</td>\n",
       "      <td>this pop filter is great it looks and performs...</td>\n",
       "    </tr>\n",
       "  </tbody>\n",
       "</table>\n",
       "</div>"
      ],
      "text/plain": [
       "       reviewerID        asin  \\\n",
       "0  A2IBPI20UZIR0U  1384719342   \n",
       "1  A14VAT5EAX3D9S  1384719342   \n",
       "2  A195EZSQDW3E21  1384719342   \n",
       "3  A2C00NNG1ZQQG2  1384719342   \n",
       "4   A94QU4C90B1AX  1384719342   \n",
       "\n",
       "                                       reviewerName   helpful  \\\n",
       "0  cassandra tu \"Yeah, well, that's just like, u...    [0, 0]   \n",
       "1                                              Jake  [13, 14]   \n",
       "2                     Rick Bennette \"Rick Bennette\"    [1, 1]   \n",
       "3                         RustyBill \"Sunday Rocker\"    [0, 0]   \n",
       "4                                     SEAN MASLANKA    [0, 0]   \n",
       "\n",
       "                                          reviewText  overall  \\\n",
       "0  Not much to write about here, but it does exac...      5.0   \n",
       "1  The product does exactly as it should and is q...      5.0   \n",
       "2  The primary job of this device is to block the...      5.0   \n",
       "3  Nice windscreen protects my MXL mic and preven...      5.0   \n",
       "4  This pop filter is great. It looks and perform...      5.0   \n",
       "\n",
       "                                 summary  unixReviewTime   reviewTime  \\\n",
       "0                                   good      1393545600  02 28, 2014   \n",
       "1                                   Jake      1363392000  03 16, 2013   \n",
       "2                   It Does The Job Well      1377648000  08 28, 2013   \n",
       "3          GOOD WINDSCREEN FOR THE MONEY      1392336000  02 14, 2014   \n",
       "4  No more pops when I record my vocals.      1392940800  02 21, 2014   \n",
       "\n",
       "  sentiment                                            reviews  \n",
       "0  Positive  not much to write about here but it does exact...  \n",
       "1  Positive  the product does exactly as it should and is q...  \n",
       "2  Positive  the primary job of this device is to block the...  \n",
       "3  Positive  nice windscreen protects my mxl mic and preven...  \n",
       "4  Positive  this pop filter is great it looks and performs...  "
      ]
     },
     "execution_count": 6,
     "metadata": {},
     "output_type": "execute_result"
    }
   ],
   "source": [
    "df['reviews']=df['reviewText'].apply(review_cleaning)\n",
    "df.head()\n"
   ]
  },
  {
   "cell_type": "markdown",
   "id": "a3934b80-339e-4d6c-b71d-4383bd1d14d7",
   "metadata": {},
   "source": [
    "### Created new column polarity to store polarity value using TextBlob\n",
    "### Created new column subjectivity to store subjectivity value using TextBlob\n",
    "### Created new column review_len to store the length of reviews\n",
    "### Created new column word_count to store number of words present in reviews"
   ]
  },
  {
   "cell_type": "code",
   "execution_count": 7,
   "id": "9ab46c57-d430-49a9-a593-21fd0bd4a1dc",
   "metadata": {
    "tags": []
   },
   "outputs": [
    {
     "data": {
      "text/html": [
       "<div>\n",
       "<style scoped>\n",
       "    .dataframe tbody tr th:only-of-type {\n",
       "        vertical-align: middle;\n",
       "    }\n",
       "\n",
       "    .dataframe tbody tr th {\n",
       "        vertical-align: top;\n",
       "    }\n",
       "\n",
       "    .dataframe thead th {\n",
       "        text-align: right;\n",
       "    }\n",
       "</style>\n",
       "<table border=\"1\" class=\"dataframe\">\n",
       "  <thead>\n",
       "    <tr style=\"text-align: right;\">\n",
       "      <th></th>\n",
       "      <th>reviewerID</th>\n",
       "      <th>asin</th>\n",
       "      <th>reviewerName</th>\n",
       "      <th>helpful</th>\n",
       "      <th>reviewText</th>\n",
       "      <th>overall</th>\n",
       "      <th>summary</th>\n",
       "      <th>unixReviewTime</th>\n",
       "      <th>reviewTime</th>\n",
       "      <th>sentiment</th>\n",
       "      <th>reviews</th>\n",
       "      <th>polarity</th>\n",
       "      <th>subjectivity</th>\n",
       "      <th>review_len</th>\n",
       "      <th>word_count</th>\n",
       "    </tr>\n",
       "  </thead>\n",
       "  <tbody>\n",
       "    <tr>\n",
       "      <th>0</th>\n",
       "      <td>A2IBPI20UZIR0U</td>\n",
       "      <td>1384719342</td>\n",
       "      <td>cassandra tu \"Yeah, well, that's just like, u...</td>\n",
       "      <td>[0, 0]</td>\n",
       "      <td>Not much to write about here, but it does exac...</td>\n",
       "      <td>5.0</td>\n",
       "      <td>good</td>\n",
       "      <td>1393545600</td>\n",
       "      <td>02 28, 2014</td>\n",
       "      <td>Positive</td>\n",
       "      <td>not much to write about here but it does exact...</td>\n",
       "      <td>0.250000</td>\n",
       "      <td>0.398611</td>\n",
       "      <td>261</td>\n",
       "      <td>51</td>\n",
       "    </tr>\n",
       "    <tr>\n",
       "      <th>1</th>\n",
       "      <td>A14VAT5EAX3D9S</td>\n",
       "      <td>1384719342</td>\n",
       "      <td>Jake</td>\n",
       "      <td>[13, 14]</td>\n",
       "      <td>The product does exactly as it should and is q...</td>\n",
       "      <td>5.0</td>\n",
       "      <td>Jake</td>\n",
       "      <td>1363392000</td>\n",
       "      <td>03 16, 2013</td>\n",
       "      <td>Positive</td>\n",
       "      <td>the product does exactly as it should and is q...</td>\n",
       "      <td>0.014286</td>\n",
       "      <td>0.292857</td>\n",
       "      <td>529</td>\n",
       "      <td>103</td>\n",
       "    </tr>\n",
       "    <tr>\n",
       "      <th>2</th>\n",
       "      <td>A195EZSQDW3E21</td>\n",
       "      <td>1384719342</td>\n",
       "      <td>Rick Bennette \"Rick Bennette\"</td>\n",
       "      <td>[1, 1]</td>\n",
       "      <td>The primary job of this device is to block the...</td>\n",
       "      <td>5.0</td>\n",
       "      <td>It Does The Job Well</td>\n",
       "      <td>1377648000</td>\n",
       "      <td>08 28, 2013</td>\n",
       "      <td>Positive</td>\n",
       "      <td>the primary job of this device is to block the...</td>\n",
       "      <td>0.167500</td>\n",
       "      <td>0.434286</td>\n",
       "      <td>431</td>\n",
       "      <td>77</td>\n",
       "    </tr>\n",
       "    <tr>\n",
       "      <th>3</th>\n",
       "      <td>A2C00NNG1ZQQG2</td>\n",
       "      <td>1384719342</td>\n",
       "      <td>RustyBill \"Sunday Rocker\"</td>\n",
       "      <td>[0, 0]</td>\n",
       "      <td>Nice windscreen protects my MXL mic and preven...</td>\n",
       "      <td>5.0</td>\n",
       "      <td>GOOD WINDSCREEN FOR THE MONEY</td>\n",
       "      <td>1392336000</td>\n",
       "      <td>02 14, 2014</td>\n",
       "      <td>Positive</td>\n",
       "      <td>nice windscreen protects my mxl mic and preven...</td>\n",
       "      <td>0.200000</td>\n",
       "      <td>0.925000</td>\n",
       "      <td>204</td>\n",
       "      <td>35</td>\n",
       "    </tr>\n",
       "    <tr>\n",
       "      <th>4</th>\n",
       "      <td>A94QU4C90B1AX</td>\n",
       "      <td>1384719342</td>\n",
       "      <td>SEAN MASLANKA</td>\n",
       "      <td>[0, 0]</td>\n",
       "      <td>This pop filter is great. It looks and perform...</td>\n",
       "      <td>5.0</td>\n",
       "      <td>No more pops when I record my vocals.</td>\n",
       "      <td>1392940800</td>\n",
       "      <td>02 21, 2014</td>\n",
       "      <td>Positive</td>\n",
       "      <td>this pop filter is great it looks and performs...</td>\n",
       "      <td>0.800000</td>\n",
       "      <td>0.750000</td>\n",
       "      <td>155</td>\n",
       "      <td>28</td>\n",
       "    </tr>\n",
       "  </tbody>\n",
       "</table>\n",
       "</div>"
      ],
      "text/plain": [
       "       reviewerID        asin  \\\n",
       "0  A2IBPI20UZIR0U  1384719342   \n",
       "1  A14VAT5EAX3D9S  1384719342   \n",
       "2  A195EZSQDW3E21  1384719342   \n",
       "3  A2C00NNG1ZQQG2  1384719342   \n",
       "4   A94QU4C90B1AX  1384719342   \n",
       "\n",
       "                                       reviewerName   helpful  \\\n",
       "0  cassandra tu \"Yeah, well, that's just like, u...    [0, 0]   \n",
       "1                                              Jake  [13, 14]   \n",
       "2                     Rick Bennette \"Rick Bennette\"    [1, 1]   \n",
       "3                         RustyBill \"Sunday Rocker\"    [0, 0]   \n",
       "4                                     SEAN MASLANKA    [0, 0]   \n",
       "\n",
       "                                          reviewText  overall  \\\n",
       "0  Not much to write about here, but it does exac...      5.0   \n",
       "1  The product does exactly as it should and is q...      5.0   \n",
       "2  The primary job of this device is to block the...      5.0   \n",
       "3  Nice windscreen protects my MXL mic and preven...      5.0   \n",
       "4  This pop filter is great. It looks and perform...      5.0   \n",
       "\n",
       "                                 summary  unixReviewTime   reviewTime  \\\n",
       "0                                   good      1393545600  02 28, 2014   \n",
       "1                                   Jake      1363392000  03 16, 2013   \n",
       "2                   It Does The Job Well      1377648000  08 28, 2013   \n",
       "3          GOOD WINDSCREEN FOR THE MONEY      1392336000  02 14, 2014   \n",
       "4  No more pops when I record my vocals.      1392940800  02 21, 2014   \n",
       "\n",
       "  sentiment                                            reviews  polarity  \\\n",
       "0  Positive  not much to write about here but it does exact...  0.250000   \n",
       "1  Positive  the product does exactly as it should and is q...  0.014286   \n",
       "2  Positive  the primary job of this device is to block the...  0.167500   \n",
       "3  Positive  nice windscreen protects my mxl mic and preven...  0.200000   \n",
       "4  Positive  this pop filter is great it looks and performs...  0.800000   \n",
       "\n",
       "   subjectivity  review_len  word_count  \n",
       "0      0.398611         261          51  \n",
       "1      0.292857         529         103  \n",
       "2      0.434286         431          77  \n",
       "3      0.925000         204          35  \n",
       "4      0.750000         155          28  "
      ]
     },
     "execution_count": 7,
     "metadata": {},
     "output_type": "execute_result"
    }
   ],
   "source": [
    "df['polarity'] = df['reviews'].map(lambda text: TextBlob(text).sentiment.polarity)\n",
    "df['subjectivity'] = df['reviews'].map(lambda text: TextBlob(text).sentiment.subjectivity)\n",
    "df['review_len'] = df['reviews'].astype(str).apply(len)\n",
    "df['word_count'] = df['reviews'].apply(lambda x: len(str(x).split()))\n",
    "df.head()\n"
   ]
  },
  {
   "cell_type": "markdown",
   "id": "07609247-bfe9-4198-ad61-0d1af6ce3e9c",
   "metadata": {},
   "source": [
    "### Used LabelEncoder() library to normalize labels i.e., sentiment"
   ]
  },
  {
   "cell_type": "code",
   "execution_count": 8,
   "id": "3dba516d-7730-4ff0-8e5e-0f276c944788",
   "metadata": {
    "tags": []
   },
   "outputs": [
    {
     "name": "stdout",
     "output_type": "stream",
     "text": [
      "[2 1 0]\n"
     ]
    },
    {
     "data": {
      "text/html": [
       "<div>\n",
       "<style scoped>\n",
       "    .dataframe tbody tr th:only-of-type {\n",
       "        vertical-align: middle;\n",
       "    }\n",
       "\n",
       "    .dataframe tbody tr th {\n",
       "        vertical-align: top;\n",
       "    }\n",
       "\n",
       "    .dataframe thead th {\n",
       "        text-align: right;\n",
       "    }\n",
       "</style>\n",
       "<table border=\"1\" class=\"dataframe\">\n",
       "  <thead>\n",
       "    <tr style=\"text-align: right;\">\n",
       "      <th></th>\n",
       "      <th>reviewerID</th>\n",
       "      <th>asin</th>\n",
       "      <th>reviewerName</th>\n",
       "      <th>helpful</th>\n",
       "      <th>reviewText</th>\n",
       "      <th>overall</th>\n",
       "      <th>summary</th>\n",
       "      <th>unixReviewTime</th>\n",
       "      <th>reviewTime</th>\n",
       "      <th>sentiment</th>\n",
       "      <th>reviews</th>\n",
       "      <th>polarity</th>\n",
       "      <th>subjectivity</th>\n",
       "      <th>review_len</th>\n",
       "      <th>word_count</th>\n",
       "    </tr>\n",
       "  </thead>\n",
       "  <tbody>\n",
       "    <tr>\n",
       "      <th>8756</th>\n",
       "      <td>A1VFUMY02HJIFY</td>\n",
       "      <td>B004PG1A4A</td>\n",
       "      <td>D. Dreifus</td>\n",
       "      <td>[0, 0]</td>\n",
       "      <td>The odor of adhesive lingered for some time, b...</td>\n",
       "      <td>3.0</td>\n",
       "      <td>Works well for what it is</td>\n",
       "      <td>1392940800</td>\n",
       "      <td>02 21, 2014</td>\n",
       "      <td>1</td>\n",
       "      <td>the odor of adhesive lingered for some time bu...</td>\n",
       "      <td>0.171354</td>\n",
       "      <td>0.595312</td>\n",
       "      <td>732</td>\n",
       "      <td>147</td>\n",
       "    </tr>\n",
       "    <tr>\n",
       "      <th>5226</th>\n",
       "      <td>A1FO10Z93GKN33</td>\n",
       "      <td>B000OR88JE</td>\n",
       "      <td>Fancy</td>\n",
       "      <td>[0, 0]</td>\n",
       "      <td>these are wonderful strings for acoustic playi...</td>\n",
       "      <td>5.0</td>\n",
       "      <td>wonderful!!</td>\n",
       "      <td>1365379200</td>\n",
       "      <td>04 8, 2013</td>\n",
       "      <td>2</td>\n",
       "      <td>these are wonderful strings for acoustic playi...</td>\n",
       "      <td>0.660000</td>\n",
       "      <td>0.630000</td>\n",
       "      <td>135</td>\n",
       "      <td>24</td>\n",
       "    </tr>\n",
       "    <tr>\n",
       "      <th>9963</th>\n",
       "      <td>A3G5BIFX6VS1OP</td>\n",
       "      <td>B00A716FB0</td>\n",
       "      <td>jeff h</td>\n",
       "      <td>[0, 0]</td>\n",
       "      <td>Great gig bag for acoustic guitar. Very well m...</td>\n",
       "      <td>5.0</td>\n",
       "      <td>Great gig bag</td>\n",
       "      <td>1388793600</td>\n",
       "      <td>01 4, 2014</td>\n",
       "      <td>2</td>\n",
       "      <td>great gig bag for acoustic guitar very well ma...</td>\n",
       "      <td>0.616667</td>\n",
       "      <td>0.733333</td>\n",
       "      <td>290</td>\n",
       "      <td>55</td>\n",
       "    </tr>\n",
       "    <tr>\n",
       "      <th>5899</th>\n",
       "      <td>A37A41GWQFMK3D</td>\n",
       "      <td>B000XPPURU</td>\n",
       "      <td>Dr. Freud</td>\n",
       "      <td>[1, 1]</td>\n",
       "      <td>this strap works fine on my Fender Strat.  it ...</td>\n",
       "      <td>4.0</td>\n",
       "      <td>good for the money but does not fit all guitars</td>\n",
       "      <td>1322438400</td>\n",
       "      <td>11 28, 2011</td>\n",
       "      <td>2</td>\n",
       "      <td>this strap works fine on my fender strat  it i...</td>\n",
       "      <td>-0.033333</td>\n",
       "      <td>0.612500</td>\n",
       "      <td>205</td>\n",
       "      <td>37</td>\n",
       "    </tr>\n",
       "    <tr>\n",
       "      <th>2493</th>\n",
       "      <td>A3GAP455S8YH0M</td>\n",
       "      <td>B0002GWFEQ</td>\n",
       "      <td>Joe's Gadgets \"JOE H.\"</td>\n",
       "      <td>[0, 0]</td>\n",
       "      <td>My new guitar had only the back strap connecto...</td>\n",
       "      <td>5.0</td>\n",
       "      <td>Exactly what I needed</td>\n",
       "      <td>1369872000</td>\n",
       "      <td>05 30, 2013</td>\n",
       "      <td>2</td>\n",
       "      <td>my new guitar had only the back strap connecto...</td>\n",
       "      <td>0.131385</td>\n",
       "      <td>0.450649</td>\n",
       "      <td>359</td>\n",
       "      <td>64</td>\n",
       "    </tr>\n",
       "    <tr>\n",
       "      <th>1329</th>\n",
       "      <td>AXU9VX024GPSS</td>\n",
       "      <td>B0002E1G5C</td>\n",
       "      <td>RazzSpew10 \"Rev. Neo Gnostic\"</td>\n",
       "      <td>[0, 0]</td>\n",
       "      <td>This tool has high marks for one reason: It wo...</td>\n",
       "      <td>5.0</td>\n",
       "      <td>Rated high for a reason.</td>\n",
       "      <td>1336262400</td>\n",
       "      <td>05 6, 2012</td>\n",
       "      <td>2</td>\n",
       "      <td>this tool has high marks for one reason it wor...</td>\n",
       "      <td>0.455000</td>\n",
       "      <td>0.495000</td>\n",
       "      <td>146</td>\n",
       "      <td>30</td>\n",
       "    </tr>\n",
       "    <tr>\n",
       "      <th>6508</th>\n",
       "      <td>A2CJVLER896Q7L</td>\n",
       "      <td>B001FSZR4U</td>\n",
       "      <td>Diego A. Umana</td>\n",
       "      <td>[0, 1]</td>\n",
       "      <td>This is a very useful little device. I use thi...</td>\n",
       "      <td>5.0</td>\n",
       "      <td>Very useful little device</td>\n",
       "      <td>1372723200</td>\n",
       "      <td>07 2, 2013</td>\n",
       "      <td>2</td>\n",
       "      <td>this is a very useful little device i use this...</td>\n",
       "      <td>0.132500</td>\n",
       "      <td>0.208000</td>\n",
       "      <td>368</td>\n",
       "      <td>66</td>\n",
       "    </tr>\n",
       "    <tr>\n",
       "      <th>7447</th>\n",
       "      <td>A3APKXMNJAEDQM</td>\n",
       "      <td>B002R2IUEW</td>\n",
       "      <td>hargy15</td>\n",
       "      <td>[1, 1]</td>\n",
       "      <td>Can't get your banjo to sound right without a ...</td>\n",
       "      <td>5.0</td>\n",
       "      <td>Banjo essentials</td>\n",
       "      <td>1352505600</td>\n",
       "      <td>11 10, 2012</td>\n",
       "      <td>2</td>\n",
       "      <td>cant get your banjo to sound right without a g...</td>\n",
       "      <td>0.495238</td>\n",
       "      <td>0.561905</td>\n",
       "      <td>116</td>\n",
       "      <td>23</td>\n",
       "    </tr>\n",
       "    <tr>\n",
       "      <th>9441</th>\n",
       "      <td>A2WYAHJGST6AOT</td>\n",
       "      <td>B005VLWHP4</td>\n",
       "      <td>Matt</td>\n",
       "      <td>[0, 0]</td>\n",
       "      <td>For 3 dollars this is a great quality capo, it...</td>\n",
       "      <td>5.0</td>\n",
       "      <td>Good Cheap Capo</td>\n",
       "      <td>1393113600</td>\n",
       "      <td>02 23, 2014</td>\n",
       "      <td>2</td>\n",
       "      <td>for 3 dollars this is a great quality capo it ...</td>\n",
       "      <td>0.533333</td>\n",
       "      <td>0.583333</td>\n",
       "      <td>150</td>\n",
       "      <td>30</td>\n",
       "    </tr>\n",
       "    <tr>\n",
       "      <th>5407</th>\n",
       "      <td>A2XL6TZM34HFV3</td>\n",
       "      <td>B000RN53LQ</td>\n",
       "      <td>Review Man \"Review Man\"</td>\n",
       "      <td>[2, 2]</td>\n",
       "      <td>I wanted a portable headphone amp but bought t...</td>\n",
       "      <td>4.0</td>\n",
       "      <td>Amazingly versatile practice tool</td>\n",
       "      <td>1298937600</td>\n",
       "      <td>03 1, 2011</td>\n",
       "      <td>2</td>\n",
       "      <td>i wanted a portable headphone amp but bought t...</td>\n",
       "      <td>0.199575</td>\n",
       "      <td>0.484539</td>\n",
       "      <td>2045</td>\n",
       "      <td>392</td>\n",
       "    </tr>\n",
       "  </tbody>\n",
       "</table>\n",
       "</div>"
      ],
      "text/plain": [
       "          reviewerID        asin                   reviewerName helpful  \\\n",
       "8756  A1VFUMY02HJIFY  B004PG1A4A                     D. Dreifus  [0, 0]   \n",
       "5226  A1FO10Z93GKN33  B000OR88JE                          Fancy  [0, 0]   \n",
       "9963  A3G5BIFX6VS1OP  B00A716FB0                         jeff h  [0, 0]   \n",
       "5899  A37A41GWQFMK3D  B000XPPURU                      Dr. Freud  [1, 1]   \n",
       "2493  A3GAP455S8YH0M  B0002GWFEQ         Joe's Gadgets \"JOE H.\"  [0, 0]   \n",
       "1329   AXU9VX024GPSS  B0002E1G5C  RazzSpew10 \"Rev. Neo Gnostic\"  [0, 0]   \n",
       "6508  A2CJVLER896Q7L  B001FSZR4U                 Diego A. Umana  [0, 1]   \n",
       "7447  A3APKXMNJAEDQM  B002R2IUEW                        hargy15  [1, 1]   \n",
       "9441  A2WYAHJGST6AOT  B005VLWHP4                           Matt  [0, 0]   \n",
       "5407  A2XL6TZM34HFV3  B000RN53LQ        Review Man \"Review Man\"  [2, 2]   \n",
       "\n",
       "                                             reviewText  overall  \\\n",
       "8756  The odor of adhesive lingered for some time, b...      3.0   \n",
       "5226  these are wonderful strings for acoustic playi...      5.0   \n",
       "9963  Great gig bag for acoustic guitar. Very well m...      5.0   \n",
       "5899  this strap works fine on my Fender Strat.  it ...      4.0   \n",
       "2493  My new guitar had only the back strap connecto...      5.0   \n",
       "1329  This tool has high marks for one reason: It wo...      5.0   \n",
       "6508  This is a very useful little device. I use thi...      5.0   \n",
       "7447  Can't get your banjo to sound right without a ...      5.0   \n",
       "9441  For 3 dollars this is a great quality capo, it...      5.0   \n",
       "5407  I wanted a portable headphone amp but bought t...      4.0   \n",
       "\n",
       "                                              summary  unixReviewTime  \\\n",
       "8756                        Works well for what it is      1392940800   \n",
       "5226                                      wonderful!!      1365379200   \n",
       "9963                                    Great gig bag      1388793600   \n",
       "5899  good for the money but does not fit all guitars      1322438400   \n",
       "2493                            Exactly what I needed      1369872000   \n",
       "1329                         Rated high for a reason.      1336262400   \n",
       "6508                        Very useful little device      1372723200   \n",
       "7447                                 Banjo essentials      1352505600   \n",
       "9441                                  Good Cheap Capo      1393113600   \n",
       "5407                Amazingly versatile practice tool      1298937600   \n",
       "\n",
       "       reviewTime  sentiment  \\\n",
       "8756  02 21, 2014          1   \n",
       "5226   04 8, 2013          2   \n",
       "9963   01 4, 2014          2   \n",
       "5899  11 28, 2011          2   \n",
       "2493  05 30, 2013          2   \n",
       "1329   05 6, 2012          2   \n",
       "6508   07 2, 2013          2   \n",
       "7447  11 10, 2012          2   \n",
       "9441  02 23, 2014          2   \n",
       "5407   03 1, 2011          2   \n",
       "\n",
       "                                                reviews  polarity  \\\n",
       "8756  the odor of adhesive lingered for some time bu...  0.171354   \n",
       "5226  these are wonderful strings for acoustic playi...  0.660000   \n",
       "9963  great gig bag for acoustic guitar very well ma...  0.616667   \n",
       "5899  this strap works fine on my fender strat  it i... -0.033333   \n",
       "2493  my new guitar had only the back strap connecto...  0.131385   \n",
       "1329  this tool has high marks for one reason it wor...  0.455000   \n",
       "6508  this is a very useful little device i use this...  0.132500   \n",
       "7447  cant get your banjo to sound right without a g...  0.495238   \n",
       "9441  for 3 dollars this is a great quality capo it ...  0.533333   \n",
       "5407  i wanted a portable headphone amp but bought t...  0.199575   \n",
       "\n",
       "      subjectivity  review_len  word_count  \n",
       "8756      0.595312         732         147  \n",
       "5226      0.630000         135          24  \n",
       "9963      0.733333         290          55  \n",
       "5899      0.612500         205          37  \n",
       "2493      0.450649         359          64  \n",
       "1329      0.495000         146          30  \n",
       "6508      0.208000         368          66  \n",
       "7447      0.561905         116          23  \n",
       "9441      0.583333         150          30  \n",
       "5407      0.484539        2045         392  "
      ]
     },
     "execution_count": 8,
     "metadata": {},
     "output_type": "execute_result"
    }
   ],
   "source": [
    "label_encoder = preprocessing.LabelEncoder()   \n",
    "df['sentiment']= label_encoder.fit_transform(df['sentiment']) \n",
    "print(df['sentiment'].unique())\n",
    "df.sample(10)"
   ]
  },
  {
   "cell_type": "markdown",
   "id": "f1a1ab05-c40d-4404-864f-b758a78f992a",
   "metadata": {},
   "source": [
    "### Used TF_IDF Vectorizer library to transform the text into a meaningful representation of numbers "
   ]
  },
  {
   "cell_type": "code",
   "execution_count": 9,
   "id": "1cab0f78-3f19-4c4d-bd93-31350799aea3",
   "metadata": {
    "tags": []
   },
   "outputs": [],
   "source": [
    "tfidf_vectorizer = TfidfVectorizer(max_features=5000, ngram_range=(2,2))\n",
    "x= tfidf_vectorizer.fit_transform(df['reviews'])\n"
   ]
  },
  {
   "cell_type": "code",
   "execution_count": 10,
   "id": "9ff4ed72-20b6-4949-89d2-0f9a4e8f8697",
   "metadata": {
    "tags": []
   },
   "outputs": [],
   "source": [
    "y=df['sentiment']\n"
   ]
  },
  {
   "cell_type": "markdown",
   "id": "9ae5c684-3478-41db-9d6a-d303e7ea35de",
   "metadata": {},
   "source": [
    "### Used SMOTE library to handle the imbalanced data and to resample the data"
   ]
  },
  {
   "cell_type": "code",
   "execution_count": 11,
   "id": "b019f286-bb8e-4bf1-8a6c-bbfff0e1dd30",
   "metadata": {
    "tags": []
   },
   "outputs": [
    {
     "name": "stdout",
     "output_type": "stream",
     "text": [
      "Original dataset shape : Counter({2: 9022, 1: 772, 0: 467})\n",
      "Resampled dataset shape Counter({2: 9022, 1: 9022, 0: 9022})\n"
     ]
    }
   ],
   "source": [
    "print(f'Original dataset shape : {Counter(y)}')\n",
    "smote = SMOTE(random_state=42)\n",
    "X_res, y_res = smote.fit_resample(x, y)\n",
    "print(f'Resampled dataset shape {Counter(y_res)}')\n"
   ]
  },
  {
   "cell_type": "markdown",
   "id": "10eca74c-ae16-401a-9d31-6bbf402c7203",
   "metadata": {},
   "source": [
    "### Splitted the data into training dataset and testing dataset using train_test_split with training size is 75% and test size is 25%"
   ]
  },
  {
   "cell_type": "code",
   "execution_count": 12,
   "id": "f207f6ff-0d7d-4313-89e0-1aca589f5230",
   "metadata": {
    "tags": []
   },
   "outputs": [
    {
     "name": "stdout",
     "output_type": "stream",
     "text": [
      "  (0, 2465)\t0.25192015245002997\n",
      "  (0, 238)\t0.25192015245002997\n",
      "  (0, 301)\t0.22601006503751472\n",
      "  (0, 41)\t0.24184282621116868\n",
      "  (0, 770)\t0.24311676244127614\n",
      "  (0, 287)\t0.21024975349790787\n",
      "  (0, 2981)\t0.21633307899127588\n",
      "  (0, 1631)\t0.23207966697122637\n",
      "  (0, 4602)\t0.21883624259337975\n",
      "  (0, 4520)\t0.21949101652787728\n",
      "  (0, 3199)\t0.22296210996355365\n",
      "  (0, 1425)\t0.19297041214894337\n",
      "  (0, 3266)\t0.20550882923916944\n",
      "  (0, 2223)\t0.18673914124797528\n",
      "  (0, 260)\t0.20420323517990788\n",
      "  (0, 4668)\t0.20335911275423715\n",
      "  (0, 1440)\t0.14834202705783137\n",
      "  (0, 4699)\t0.16822795964347834\n",
      "  (0, 1625)\t0.17027520289758696\n",
      "  (0, 358)\t0.18943503923216817\n",
      "  (0, 1850)\t0.1757020457779255\n",
      "  (0, 4375)\t0.11846407608644513\n",
      "  (0, 1915)\t0.14975754835716712\n",
      "  (0, 4865)\t0.15397381419189665\n",
      "  (0, 1962)\t0.10065896278437624\n",
      "  :\t:\n",
      "  (20298, 2784)\t0.22535697427877155\n",
      "  (20298, 1173)\t0.2194631915760093\n",
      "  (20298, 207)\t0.1730908092705323\n",
      "  (20298, 3502)\t0.22724716516002513\n",
      "  (20298, 3654)\t0.20948505875846263\n",
      "  (20298, 1733)\t0.21126014061894052\n",
      "  (20298, 508)\t0.20132321275274107\n",
      "  (20298, 1026)\t0.11695141365035194\n",
      "  (20298, 288)\t0.22270513714564716\n",
      "  (20298, 900)\t0.21313298149564683\n",
      "  (20298, 1712)\t0.18009280167573083\n",
      "  (20298, 3872)\t0.23735808155482602\n",
      "  (20298, 2757)\t0.16365324695886072\n",
      "  (20298, 4855)\t0.1925738584948686\n",
      "  (20298, 3487)\t0.23364370223542585\n",
      "  (20298, 2865)\t0.12750468661274403\n",
      "  (20298, 3083)\t0.17061245359341473\n",
      "  (20298, 4379)\t0.17289362214915704\n",
      "  (20298, 1523)\t0.16262018368684455\n",
      "  (20298, 2306)\t0.17820261079447727\n",
      "  (20298, 176)\t0.17192447729970545\n",
      "  (20298, 325)\t0.10060094561758168\n",
      "  (20298, 4710)\t0.16779096681595757\n",
      "  (20298, 1287)\t0.1340497245001777\n",
      "  (20298, 1858)\t0.19053236490908398\n"
     ]
    }
   ],
   "source": [
    "X_train, X_test, y_train, y_test = train_test_split(X_res, y_res, test_size=0.25, random_state=0)\n",
    "print(X_train)"
   ]
  },
  {
   "cell_type": "code",
   "execution_count": 13,
   "id": "e3a5a9f2-3779-4d96-813c-f6c387678163",
   "metadata": {
    "tags": []
   },
   "outputs": [
    {
     "name": "stdout",
     "output_type": "stream",
     "text": [
      "  (0, 691)\t0.06072250343055784\n",
      "  (0, 4159)\t0.07593726081305335\n",
      "  (0, 2273)\t0.06883930389353445\n",
      "  (0, 4670)\t0.10443893938815348\n",
      "  (0, 2909)\t0.08380504247555592\n",
      "  (0, 1139)\t0.1007309001359896\n",
      "  (0, 4272)\t0.06051664321306361\n",
      "  (0, 4605)\t0.06630455367039684\n",
      "  (0, 4011)\t0.07348282443361831\n",
      "  (0, 1892)\t0.06341500508674673\n",
      "  (0, 3132)\t0.07769445621542241\n",
      "  (0, 3911)\t0.06366038368041288\n",
      "  (0, 3341)\t0.0898644198147258\n",
      "  (0, 4595)\t0.07294594925452581\n",
      "  (0, 1256)\t0.07973177353894506\n",
      "  (0, 3089)\t0.08717044522377833\n",
      "  (0, 4891)\t0.08717044522377833\n",
      "  (0, 2609)\t0.11357921431787195\n",
      "  (0, 4965)\t0.07477163146205029\n",
      "  (0, 2870)\t0.08343981279110894\n",
      "  (0, 2616)\t0.0934071116160749\n",
      "  (0, 4012)\t0.10412241016641159\n",
      "  (0, 4154)\t0.06865280045766331\n",
      "  (0, 407)\t0.11950618233733247\n",
      "  (0, 1951)\t0.11054952564828699\n",
      "  :\t:\n",
      "  (6766, 544)\t0.08640462169291022\n",
      "  (6766, 1053)\t0.0916027882022906\n",
      "  (6766, 4600)\t0.36879674685859803\n",
      "  (6766, 2685)\t0.06774706983946305\n",
      "  (6766, 4527)\t0.11449699874447025\n",
      "  (6766, 2899)\t0.0005716282808975459\n",
      "  (6766, 1755)\t0.07650158536286408\n",
      "  (6766, 3846)\t0.24794323039173338\n",
      "  (6766, 4529)\t0.0006301270976787621\n",
      "  (6766, 1686)\t0.03849715289127208\n",
      "  (6766, 4933)\t0.0004461865434914336\n",
      "  (6766, 1256)\t0.0005320757206070392\n",
      "  (6766, 4287)\t0.0007081653665272358\n",
      "  (6766, 3694)\t0.0005895289224145117\n",
      "  (6766, 1546)\t0.0006014827487892394\n",
      "  (6766, 3519)\t0.0004473032946750166\n",
      "  (6766, 3559)\t0.0005744181753483402\n",
      "  (6766, 4167)\t0.0007288563412728988\n",
      "  (6766, 4104)\t0.0007035441789028374\n",
      "  (6766, 2069)\t0.0007058307022880794\n",
      "  (6766, 2078)\t0.08078371650264848\n",
      "  (6766, 4935)\t0.0006148826019903575\n",
      "  (6766, 1261)\t0.0006969545699023194\n",
      "  (6766, 2116)\t0.0007543144147894587\n",
      "  (6766, 3740)\t0.0007738193626644629\n"
     ]
    }
   ],
   "source": [
    "print(X_test)"
   ]
  },
  {
   "cell_type": "code",
   "execution_count": 14,
   "id": "6f0602c6-5eb3-4517-ab5c-04c76d219042",
   "metadata": {
    "tags": []
   },
   "outputs": [
    {
     "data": {
      "text/plain": [
       "9249     2\n",
       "5929     2\n",
       "14753    0\n",
       "19966    1\n",
       "18975    1\n",
       "        ..\n",
       "13123    0\n",
       "19648    1\n",
       "9845     2\n",
       "10799    0\n",
       "2732     2\n",
       "Name: sentiment, Length: 20299, dtype: int32"
      ]
     },
     "execution_count": 14,
     "metadata": {},
     "output_type": "execute_result"
    }
   ],
   "source": [
    "y_train"
   ]
  },
  {
   "cell_type": "code",
   "execution_count": 15,
   "id": "9ca85d98-4a10-42c1-b3b2-531e0539254e",
   "metadata": {
    "tags": []
   },
   "outputs": [
    {
     "data": {
      "text/plain": [
       "8694     2\n",
       "24229    1\n",
       "19104    1\n",
       "14982    0\n",
       "18769    0\n",
       "1474     1\n",
       "17861    0\n",
       "15003    0\n",
       "17654    0\n",
       "11211    0\n",
       "14663    0\n",
       "23600    1\n",
       "4115     2\n",
       "25929    1\n",
       "12854    0\n",
       "26839    1\n",
       "7046     2\n",
       "17786    0\n",
       "21381    1\n",
       "16932    0\n",
       "21366    1\n",
       "25155    1\n",
       "1560     2\n",
       "4507     2\n",
       "21213    1\n",
       "19929    1\n",
       "13863    0\n",
       "2894     2\n",
       "25792    1\n",
       "10894    0\n",
       "Name: sentiment, dtype: int32"
      ]
     },
     "execution_count": 15,
     "metadata": {},
     "output_type": "execute_result"
    }
   ],
   "source": [
    "y_test.sample(30)"
   ]
  },
  {
   "cell_type": "code",
   "execution_count": null,
   "id": "dcadf81f-2232-446d-9366-426c9304ffb3",
   "metadata": {},
   "outputs": [],
   "source": []
  },
  {
   "cell_type": "code",
   "execution_count": 16,
   "id": "e619a7d5-b5f4-4672-bbbd-54f32b8f1387",
   "metadata": {
    "tags": []
   },
   "outputs": [],
   "source": [
    "from sklearn.metrics import confusion_matrix, accuracy_score, classification_report"
   ]
  },
  {
   "cell_type": "markdown",
   "id": "0bed132f-5165-4f6a-9377-654275f7747f",
   "metadata": {},
   "source": [
    "### Implemented Logistic Regression Algorithm"
   ]
  },
  {
   "cell_type": "code",
   "execution_count": 17,
   "id": "2aa63f61-f23b-4ef0-aa37-44986f22c6c7",
   "metadata": {
    "tags": []
   },
   "outputs": [
    {
     "name": "stdout",
     "output_type": "stream",
     "text": [
      "Accuracy of logistic regression classifier on test set: 0.95\n",
      "\n",
      "Confusion Matrix for Logistic Regression:\n",
      " [[2326    0    0]\n",
      " [   0 2232    0]\n",
      " [ 173  169 1867]]\n",
      "\n",
      "Classification Report for Logistic Regression:\n",
      "               precision    recall  f1-score   support\n",
      "\n",
      "           0       0.93      1.00      0.96      2326\n",
      "           1       0.93      1.00      0.96      2232\n",
      "           2       1.00      0.85      0.92      2209\n",
      "\n",
      "    accuracy                           0.95      6767\n",
      "   macro avg       0.95      0.95      0.95      6767\n",
      "weighted avg       0.95      0.95      0.95      6767\n",
      "\n"
     ]
    }
   ],
   "source": [
    "from sklearn.linear_model import LogisticRegression\n",
    "\n",
    "logreg = LogisticRegression(C=10000.0, random_state=0, max_iter=1000)\n",
    "logreg.fit(X_train, y_train)\n",
    "y_pred = logreg.predict(X_test)\n",
    "print('Accuracy of logistic regression classifier on test set: {:.2f}'.format(logreg.score(X_test, y_test)))\n",
    "print(f'\\nConfusion Matrix for Logistic Regression:\\n {confusion_matrix(y_test, y_pred)}')\n",
    "print(f'\\nClassification Report for Logistic Regression:\\n {classification_report(y_test, y_pred)}')"
   ]
  },
  {
   "cell_type": "code",
   "execution_count": 18,
   "id": "d5cbec4e-b45b-43ca-9227-7bce02ebe39d",
   "metadata": {
    "tags": []
   },
   "outputs": [],
   "source": [
    "#import matplotlib.pyplot as plt\n",
    "\n",
    "#matrix = plot_confusion_matrix(clf, X_test, y_test,\n",
    "#                                 cmap=plt.cm.Blues,\n",
    "#                                 normalize='true')\n",
    "#plt.title('Confusion matrix for our classifier')\n",
    "#plt.show(matrix)\n",
    "#plt.show()"
   ]
  },
  {
   "cell_type": "markdown",
   "id": "9d1016b7-0b55-4a31-8129-2b40a806cc62",
   "metadata": {},
   "source": [
    "### Predicted the output using logistic regression"
   ]
  },
  {
   "cell_type": "code",
   "execution_count": 19,
   "id": "90ce15a7-01cf-42e4-8410-42f6d414cd0d",
   "metadata": {},
   "outputs": [
    {
     "name": "stdout",
     "output_type": "stream",
     "text": [
      "[1]\n",
      "[0, 1, 0]\n"
     ]
    }
   ],
   "source": [
    "pred = logreg.predict(X_test[5741])\n",
    "print(pred)\n",
    "\n",
    "actual = y_test[5741]\n",
    "a = [0, 0 ,0]\n",
    "if(pred == 2):\n",
    "    a[2] = 1\n",
    "    a[0] = 0\n",
    "    a[1] = 0\n",
    "elif(pred == 1):\n",
    "    a[1] = 1\n",
    "    a[0] = 0\n",
    "    a[2] = 0\n",
    "else:\n",
    "    a[0] = 1\n",
    "    a[1] = 0\n",
    "    a[2] = 0\n",
    "print(a)"
   ]
  },
  {
   "cell_type": "markdown",
   "id": "be6ea047-34ad-4ac1-8381-e7eef2c7ca4d",
   "metadata": {},
   "source": [
    "### Implemented Decision Tree Classifier Algorithm (both gini and entropy)"
   ]
  },
  {
   "cell_type": "code",
   "execution_count": 20,
   "id": "bfaceaf4-bfbc-4da2-b8bb-2d9497175bc0",
   "metadata": {},
   "outputs": [],
   "source": [
    "from sklearn.tree import DecisionTreeClassifier\n",
    "\n",
    "clf_gini = DecisionTreeClassifier(criterion=\"gini\", random_state=100, max_depth=3, min_samples_leaf=5)\n",
    "clf_gini.fit(X_train, y_train)\n",
    "y_pred_clf_gini = clf_gini.predict(X_test)"
   ]
  },
  {
   "cell_type": "code",
   "execution_count": 21,
   "id": "bdeb734b-e981-4742-964f-ffbea032e660",
   "metadata": {},
   "outputs": [
    {
     "name": "stdout",
     "output_type": "stream",
     "text": [
      "Confusion Matrix for Decision Tree(gini):\n",
      " [[ 725  766  835]\n",
      " [ 495  890  847]\n",
      " [ 129  592 1488]]\n",
      "\n",
      "Accuracy for Decision Tree(gini): 45.854883995862274\n",
      "\n",
      "Classification Report for Decision Tree(gini):\n",
      "               precision    recall  f1-score   support\n",
      "\n",
      "           0       0.54      0.31      0.39      2326\n",
      "           1       0.40      0.40      0.40      2232\n",
      "           2       0.47      0.67      0.55      2209\n",
      "\n",
      "    accuracy                           0.46      6767\n",
      "   macro avg       0.47      0.46      0.45      6767\n",
      "weighted avg       0.47      0.46      0.45      6767\n",
      "\n"
     ]
    }
   ],
   "source": [
    "print(f'Confusion Matrix for Decision Tree(gini):\\n {confusion_matrix(y_test, y_pred_clf_gini)}')\n",
    "print(f'\\nAccuracy for Decision Tree(gini): {accuracy_score(y_test, y_pred_clf_gini)*100}')\n",
    "print(f'\\nClassification Report for Decision Tree(gini):\\n {classification_report(y_test, y_pred_clf_gini)}')"
   ]
  },
  {
   "cell_type": "code",
   "execution_count": 22,
   "id": "d213c80e-86bc-4ba5-834c-5499e56fe271",
   "metadata": {},
   "outputs": [],
   "source": [
    "clf_entropy = DecisionTreeClassifier(\n",
    "        criterion=\"entropy\", random_state=100,\n",
    "        max_depth=3, min_samples_leaf=5)\n",
    "\n",
    "clf_entropy.fit(X_train, y_train)\n",
    "y_pred_clf_entropy = clf_entropy.predict(X_test)"
   ]
  },
  {
   "cell_type": "code",
   "execution_count": 23,
   "id": "8334ad41-5e36-46fa-a593-572ffdf0800e",
   "metadata": {
    "tags": []
   },
   "outputs": [
    {
     "name": "stdout",
     "output_type": "stream",
     "text": [
      "Confusion Matrix for Decision Tree(entropy):\n",
      " [[ 708  783  835]\n",
      " [ 449  936  847]\n",
      " [ 116  605 1488]]\n",
      "\n",
      "Accuracy for Decision Tree(entropy): 46.283434313580614\n",
      "\n",
      "Classification Report for Decision Tree(entropy):\n",
      "               precision    recall  f1-score   support\n",
      "\n",
      "           0       0.56      0.30      0.39      2326\n",
      "           1       0.40      0.42      0.41      2232\n",
      "           2       0.47      0.67      0.55      2209\n",
      "\n",
      "    accuracy                           0.46      6767\n",
      "   macro avg       0.48      0.47      0.45      6767\n",
      "weighted avg       0.48      0.46      0.45      6767\n",
      "\n"
     ]
    }
   ],
   "source": [
    "print(f'Confusion Matrix for Decision Tree(entropy):\\n {confusion_matrix(y_test, y_pred_clf_entropy)}')\n",
    "print(f'\\nAccuracy for Decision Tree(entropy): {accuracy_score(y_test, y_pred_clf_entropy)*100}')\n",
    "print(f'\\nClassification Report for Decision Tree(entropy):\\n {classification_report(y_test, y_pred_clf_entropy)}')"
   ]
  },
  {
   "cell_type": "markdown",
   "id": "73e21b0b-8dd0-4d65-a1e7-40478f05160e",
   "metadata": {
    "tags": []
   },
   "source": [
    "### Implemented SVC algorithm"
   ]
  },
  {
   "cell_type": "code",
   "execution_count": 24,
   "id": "7d0fc704-17d7-4aff-93f1-5bb6c2e9d6f7",
   "metadata": {
    "tags": []
   },
   "outputs": [],
   "source": [
    "from sklearn.svm import SVC  \n",
    "\n",
    "clf = SVC(kernel='linear') \n",
    "clf.fit(X_train, y_train) \n",
    "clf_predictions = clf.predict(X_test)"
   ]
  },
  {
   "cell_type": "code",
   "execution_count": 25,
   "id": "6c3adbd8-2235-4754-b90f-3bd21a5e8479",
   "metadata": {
    "tags": []
   },
   "outputs": [
    {
     "name": "stdout",
     "output_type": "stream",
     "text": [
      "Confusion Matrix for Support Vector Classifier:\n",
      " [[2326    0    0]\n",
      " [   5 2218    9]\n",
      " [ 128  212 1869]]\n",
      "\n",
      "Accuracy for Support Vector Classifier: 94.76873060440373\n",
      "\n",
      "Classification Report for Support Vector Classifier:\n",
      "               precision    recall  f1-score   support\n",
      "\n",
      "           0       0.95      1.00      0.97      2326\n",
      "           1       0.91      0.99      0.95      2232\n",
      "           2       1.00      0.85      0.91      2209\n",
      "\n",
      "    accuracy                           0.95      6767\n",
      "   macro avg       0.95      0.95      0.95      6767\n",
      "weighted avg       0.95      0.95      0.95      6767\n",
      "\n"
     ]
    }
   ],
   "source": [
    "print(f'Confusion Matrix for Support Vector Classifier:\\n {confusion_matrix(y_test, clf_predictions)}')\n",
    "print(f'\\nAccuracy for Support Vector Classifier: {accuracy_score(y_test, clf_predictions)*100}')\n",
    "print(f'\\nClassification Report for Support Vector Classifier:\\n {classification_report(y_test, clf_predictions)}')"
   ]
  },
  {
   "cell_type": "code",
   "execution_count": null,
   "id": "91b33e1b-7a15-4d51-8294-10b0c0867267",
   "metadata": {},
   "outputs": [],
   "source": []
  }
 ],
 "metadata": {
  "kernelspec": {
   "display_name": "Python 3 (ipykernel)",
   "language": "python",
   "name": "python3"
  },
  "language_info": {
   "codemirror_mode": {
    "name": "ipython",
    "version": 3
   },
   "file_extension": ".py",
   "mimetype": "text/x-python",
   "name": "python",
   "nbconvert_exporter": "python",
   "pygments_lexer": "ipython3",
   "version": "3.11.5"
  }
 },
 "nbformat": 4,
 "nbformat_minor": 5
}
